{
 "cells": [
  {
   "cell_type": "code",
   "execution_count": 1,
   "id": "704591c7",
   "metadata": {},
   "outputs": [],
   "source": [
    "from urdfpy import URDF"
   ]
  },
  {
   "cell_type": "code",
   "execution_count": 2,
   "id": "87883941",
   "metadata": {},
   "outputs": [],
   "source": [
    "robot = URDF.load('ur10/ur10_joint_limited_robot.urdf')"
   ]
  },
  {
   "cell_type": "code",
   "execution_count": 3,
   "id": "1098100d",
   "metadata": {},
   "outputs": [
    {
     "name": "stdout",
     "output_type": "stream",
     "text": [
      "base_link\n",
      "shoulder_link\n",
      "upper_arm_link\n",
      "forearm_link\n",
      "wrist_1_link\n",
      "wrist_2_link\n",
      "wrist_3_link\n",
      "ee_link\n",
      "base\n",
      "tool0\n",
      "world\n"
     ]
    }
   ],
   "source": [
    "for link in robot.links:\n",
    "    print(link.name)"
   ]
  },
  {
   "cell_type": "code",
   "execution_count": 4,
   "id": "76336af9",
   "metadata": {},
   "outputs": [
    {
     "name": "stdout",
     "output_type": "stream",
     "text": [
      "shoulder_pan_joint connects base_link to shoulder_link\n",
      "shoulder_lift_joint connects shoulder_link to upper_arm_link\n",
      "elbow_joint connects upper_arm_link to forearm_link\n",
      "wrist_1_joint connects forearm_link to wrist_1_link\n",
      "wrist_2_joint connects wrist_1_link to wrist_2_link\n",
      "wrist_3_joint connects wrist_2_link to wrist_3_link\n",
      "ee_fixed_joint connects wrist_3_link to ee_link\n",
      "base_link-base_fixed_joint connects base_link to base\n",
      "wrist_3_link-tool0_fixed_joint connects wrist_3_link to tool0\n",
      "world_joint connects world to base_link\n"
     ]
    }
   ],
   "source": [
    "for joint in robot.joints:\n",
    "    print('{} connects {} to {}'.format(\n",
    "        joint.name, joint.parent, joint.child\n",
    "    ))"
   ]
  },
  {
   "cell_type": "code",
   "execution_count": 5,
   "id": "b137e54c",
   "metadata": {},
   "outputs": [
    {
     "name": "stdout",
     "output_type": "stream",
     "text": [
      "shoulder_pan_joint\n",
      "shoulder_lift_joint\n",
      "elbow_joint\n",
      "wrist_1_joint\n",
      "wrist_2_joint\n",
      "wrist_3_joint\n"
     ]
    }
   ],
   "source": [
    "for joint in robot.actuated_joints:\n",
    "    print(joint.name)"
   ]
  },
  {
   "cell_type": "code",
   "execution_count": 6,
   "id": "dbaa9632",
   "metadata": {},
   "outputs": [
    {
     "name": "stdout",
     "output_type": "stream",
     "text": [
      "world\n"
     ]
    }
   ],
   "source": [
    "print(robot.base_link.name)"
   ]
  },
  {
   "cell_type": "code",
   "execution_count": 7,
   "id": "e5b188bb",
   "metadata": {},
   "outputs": [
    {
     "name": "stdout",
     "output_type": "stream",
     "text": [
      "[[1. 0. 0. 0.]\n",
      " [0. 1. 0. 0.]\n",
      " [0. 0. 1. 0.]\n",
      " [0. 0. 0. 1.]]\n",
      "[[1.     0.     0.     0.    ]\n",
      " [0.     1.     0.     0.    ]\n",
      " [0.     0.     1.     0.1273]\n",
      " [0.     0.     0.     1.    ]]\n"
     ]
    }
   ],
   "source": [
    "fk = robot.link_fk()\n",
    "print(fk[robot.links[0]])\n",
    "print(fk[robot.links[1]])"
   ]
  },
  {
   "cell_type": "code",
   "execution_count": 8,
   "id": "7302a9d8",
   "metadata": {},
   "outputs": [
    {
     "name": "stdout",
     "output_type": "stream",
     "text": [
      "[[ 0.54030231 -0.84147098  0.          0.        ]\n",
      " [ 0.84147098  0.54030231  0.          0.        ]\n",
      " [ 0.          0.          1.          0.1273    ]\n",
      " [ 0.          0.          0.          1.        ]]\n"
     ]
    }
   ],
   "source": [
    "fk = robot.link_fk(cfg={'shoulder_pan_joint' : 1.0})\n",
    "print(fk[robot.links[1]])"
   ]
  },
  {
   "cell_type": "code",
   "execution_count": 9,
   "id": "90ef25b9",
   "metadata": {},
   "outputs": [],
   "source": [
    "robot.show(cfg={\n",
    "    'shoulder_lift_joint': -2.0,\n",
    "    'elbow_joint': 2.0\n",
    "})"
   ]
  },
  {
   "cell_type": "code",
   "execution_count": 10,
   "id": "a2d892f4",
   "metadata": {},
   "outputs": [],
   "source": [
    "robot.animate()"
   ]
  },
  {
   "cell_type": "code",
   "execution_count": null,
   "id": "61b2a453",
   "metadata": {},
   "outputs": [],
   "source": []
  }
 ],
 "metadata": {
  "kernelspec": {
   "display_name": "Python 3 (ipykernel)",
   "language": "python",
   "name": "python3"
  },
  "language_info": {
   "codemirror_mode": {
    "name": "ipython",
    "version": 3
   },
   "file_extension": ".py",
   "mimetype": "text/x-python",
   "name": "python",
   "nbconvert_exporter": "python",
   "pygments_lexer": "ipython3",
   "version": "3.9.12"
  }
 },
 "nbformat": 4,
 "nbformat_minor": 5
}
