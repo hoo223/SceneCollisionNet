{
 "cells": [
  {
   "cell_type": "code",
   "execution_count": 1,
   "id": "8fae644d",
   "metadata": {},
   "outputs": [],
   "source": [
    "import os\n",
    "import subprocess\n",
    "import trimesh\n",
    "import tqdm\n",
    "import numpy as np\n",
    "import h5py\n",
    "from utils import MeshLoader, ProcessKillingExecutor, process_mesh"
   ]
  },
  {
   "cell_type": "code",
   "execution_count": 2,
   "id": "dc0d0167",
   "metadata": {},
   "outputs": [],
   "source": [
    "grasps_dir = \"/root/share/pkgs/SceneCollisionNet/datasets/grasps\"\n",
    "mesh_dir = \"/root/share/pkgs/SceneCollisionNet/datasets/ShapeNetSem/models-COLLADA/COLLADA_mini\"\n",
    "out_dir = \"/root/share/pkgs/SceneCollisionNet/datasets/shapenet\""
   ]
  },
  {
   "cell_type": "code",
   "execution_count": 3,
   "id": "bbd05e6c",
   "metadata": {},
   "outputs": [],
   "source": [
    "mesh_loader = MeshLoader(mesh_dir)"
   ]
  },
  {
   "cell_type": "code",
   "execution_count": 4,
   "id": "0c2f7a09",
   "metadata": {},
   "outputs": [],
   "source": [
    "out_ds_file = os.path.join(out_dir, \"object_info.hdf5\")"
   ]
  },
  {
   "cell_type": "code",
   "execution_count": 5,
   "id": "437da472",
   "metadata": {},
   "outputs": [
    {
     "name": "stdout",
     "output_type": "stream",
     "text": [
      "/root/share/pkgs/SceneCollisionNet/datasets/ShapeNetSem/models-COLLADA/COLLADA_mini/1a4ec387ea6820345778775dfd5ca46a.dae\n",
      "/root/share/pkgs/SceneCollisionNet/datasets/ShapeNetSem/models-COLLADA/COLLADA_mini/1a6a67905880e4911a4d5e0a785b0e03.dae\n",
      "/root/share/pkgs/SceneCollisionNet/datasets/ShapeNetSem/models-COLLADA/COLLADA_mini/1a5e21a5633e1134ebd90840d80c9784.dae\n",
      "/root/share/pkgs/SceneCollisionNet/datasets/ShapeNetSem/models-COLLADA/COLLADA_mini/1a3efcaaf8db9957a010c31b9816f48b.dae\n",
      "/root/share/pkgs/SceneCollisionNet/datasets/ShapeNetSem/models-COLLADA/COLLADA_mini/1a4daa4904bb4a0949684e7f0bb99f9c.dae\n"
     ]
    }
   ],
   "source": [
    "inputs = []\n",
    "for f in os.listdir(grasps_dir):\n",
    "    mc, mk, ms = os.path.splitext(f)[0].split(\"_\") # category, key, scale\n",
    "    try:\n",
    "        in_path = mesh_loader.get_path(mk)\n",
    "        print(in_path)\n",
    "    except ValueError:\n",
    "        continue\n",
    "    out_path = os.path.join(\n",
    "        out_dir,\n",
    "        mc,\n",
    "        os.path.splitext(os.path.basename(in_path))[0] + \".obj\",\n",
    "    )\n",
    "    inputs.append(\n",
    "        (in_path, out_path, float(ms), os.path.join(grasps_dir, f))\n",
    "    )"
   ]
  },
  {
   "cell_type": "code",
   "execution_count": 6,
   "id": "83e08939",
   "metadata": {},
   "outputs": [],
   "source": [
    "def process_mesh_timeout(*args, **kwargs):\n",
    "    pass"
   ]
  },
  {
   "cell_type": "code",
   "execution_count": 15,
   "id": "916e9c20",
   "metadata": {},
   "outputs": [
    {
     "name": "stderr",
     "output_type": "stream",
     "text": [
      "concatenating texture: may result in visual artifacts\n",
      "concatenating texture: may result in visual artifacts\n",
      "concatenating texture: may result in visual artifacts\n",
      "concatenating texture: may result in visual artifacts\n",
      "concatenating texture: may result in visual artifacts\n"
     ]
    }
   ],
   "source": [
    "executor = ProcessKillingExecutor(max_workers=8)\n",
    "generator = executor.map(\n",
    "    process_mesh,\n",
    "    inputs,\n",
    "    timeout=120,\n",
    "    callback_timeout=process_mesh_timeout,\n",
    ")"
   ]
  },
  {
   "cell_type": "code",
   "execution_count": 18,
   "id": "e64a0eef",
   "metadata": {},
   "outputs": [],
   "source": [
    "with h5py.File(out_ds_file, \"a\") as f:\n",
    "    if \"meshes\" not in f:\n",
    "        f.create_group(\"meshes\")\n",
    "\n",
    "    categories = {}\n",
    "    if \"categories\" not in f:\n",
    "        f.create_group(\"categories\")\n",
    "\n",
    "    for mesh_info in generator:\n",
    "        if mesh_info is not None:\n",
    "            mk, minfo = mesh_info # mesh name, mesh info\n",
    "            if mk not in f[\"meshes\"]:\n",
    "                f[\"meshes\"].create_group(mk)\n",
    "            for key in minfo:\n",
    "                if key in f[\"meshes\"][mk]:\n",
    "                    del f[\"meshes\"][mk][key]\n",
    "                f[\"meshes\"][mk][key] = minfo[key] # path, scale, category, stps, probs, grasps\n",
    "\n",
    "            if minfo[\"category\"] not in categories:\n",
    "                categories[minfo[\"category\"]] = [mk.encode('utf8')] # string 저장 시 utf8로 인코딩하지 않으면 에러 발생\n",
    "            elif mk not in categories[minfo[\"category\"]]:\n",
    "                categories[minfo[\"category\"]].append(mk.encode('utf8')) # string 저장 시 utf8로 인코딩하지 않으면 에러 발생\n",
    "            \n",
    "            category = minfo[\"category\"]\n",
    "            if category in f[\"categories\"]:\n",
    "                del f[\"categories\"][category]\n",
    "            f[\"categories\"][category] = categories[category]"
   ]
  },
  {
   "cell_type": "code",
   "execution_count": 19,
   "id": "ad0231d1",
   "metadata": {},
   "outputs": [
    {
     "name": "stdout",
     "output_type": "stream",
     "text": [
      "['1a3efcaaf8db9957a010c31b9816f48b_0.011789003201190232', '1a4daa4904bb4a0949684e7f0bb99f9c_0.00040353195213810913', '1a4ec387ea6820345778775dfd5ca46a_0.004405836004468139', '1a5e21a5633e1134ebd90840d80c9784_0.02338623474048206', '1a6a67905880e4911a4d5e0a785b0e03_0.0011058383813692342']\n",
      "Laptop/1a3efcaaf8db9957a010c31b9816f48b_0.011789003201190232.obj\n"
     ]
    }
   ],
   "source": [
    "with h5py.File(out_ds_file, \"a\") as f:\n",
    "    meshes = list(f[\"meshes\"].keys())\n",
    "    print(meshes)\n",
    "    print(f[\"meshes\"][meshes[0]]['path'][()])"
   ]
  },
  {
   "cell_type": "code",
   "execution_count": null,
   "id": "7f1184e0",
   "metadata": {},
   "outputs": [],
   "source": []
  }
 ],
 "metadata": {
  "kernelspec": {
   "display_name": "Python 3 (ipykernel)",
   "language": "python",
   "name": "python3"
  },
  "language_info": {
   "codemirror_mode": {
    "name": "ipython",
    "version": 3
   },
   "file_extension": ".py",
   "mimetype": "text/x-python",
   "name": "python",
   "nbconvert_exporter": "python",
   "pygments_lexer": "ipython3",
   "version": "3.7.13"
  }
 },
 "nbformat": 4,
 "nbformat_minor": 5
}
